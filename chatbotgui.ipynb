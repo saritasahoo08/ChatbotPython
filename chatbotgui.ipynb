{
 "cells": [
  {
   "cell_type": "markdown",
   "id": "a6c31790",
   "metadata": {},
   "source": [
    "# Importing the neccessary Libraries"
   ]
  },
  {
   "cell_type": "code",
   "execution_count": 1,
   "id": "14054ff0",
   "metadata": {},
   "outputs": [
    {
     "name": "stderr",
     "output_type": "stream",
     "text": [
      "2022-05-22 14:49:14.915051: W tensorflow/stream_executor/platform/default/dso_loader.cc:64] Could not load dynamic library 'libcudart.so.11.0'; dlerror: libcudart.so.11.0: cannot open shared object file: No such file or directory\n",
      "2022-05-22 14:49:14.915190: I tensorflow/stream_executor/cuda/cudart_stub.cc:29] Ignore above cudart dlerror if you do not have a GPU set up on your machine.\n",
      "2022-05-22 14:49:46.729624: W tensorflow/stream_executor/platform/default/dso_loader.cc:64] Could not load dynamic library 'libcuda.so.1'; dlerror: libcuda.so.1: cannot open shared object file: No such file or directory\n",
      "2022-05-22 14:49:46.729719: W tensorflow/stream_executor/cuda/cuda_driver.cc:269] failed call to cuInit: UNKNOWN ERROR (303)\n",
      "2022-05-22 14:49:46.729790: I tensorflow/stream_executor/cuda/cuda_diagnostics.cc:156] kernel driver does not appear to be running on this host (sanam0876-HP-Laptop-15-da0xxx): /proc/driver/nvidia/version does not exist\n",
      "2022-05-22 14:49:46.774119: I tensorflow/core/platform/cpu_feature_guard.cc:151] This TensorFlow binary is optimized with oneAPI Deep Neural Network Library (oneDNN) to use the following CPU instructions in performance-critical operations:  AVX2 FMA\n",
      "To enable them in other operations, rebuild TensorFlow with the appropriate compiler flags.\n"
     ]
    }
   ],
   "source": [
    "import nltk\n",
    "from nltk.stem import WordNetLemmatizer\n",
    "lemmatizer = WordNetLemmatizer()\n",
    "import pickle\n",
    "import numpy as np\n",
    "from keras.models import load_model\n",
    "model = load_model('chatbot_model.h5')\n",
    "import json\n",
    "import random"
   ]
  },
  {
   "cell_type": "markdown",
   "id": "c536409a",
   "metadata": {},
   "source": [
    "# Load the required files"
   ]
  },
  {
   "cell_type": "code",
   "execution_count": 2,
   "id": "9db94ec6",
   "metadata": {},
   "outputs": [],
   "source": [
    "intents = json.loads(open('intents.json').read())\n",
    "words = pickle.load(open('words.pkl','rb'))         #mode = r: read and b: binary stream\n",
    "classes = pickle.load(open('classes.pkl','rb'))"
   ]
  },
  {
   "cell_type": "code",
   "execution_count": 27,
   "id": "929290d4",
   "metadata": {},
   "outputs": [
    {
     "name": "stdout",
     "output_type": "stream",
     "text": [
      "[\"'s\", ',', 'a', 'adverse', 'all', 'anyone', 'are', 'awesome', 'be', 'behavior', 'blood', 'by', 'bye', 'can', 'causing', 'chatting', 'check', 'could', 'data', 'day', 'detail', 'do', 'dont', 'drug', 'entry', 'find', 'for', 'give', 'good', 'goodbye', 'have', 'hello', 'help', 'helpful', 'helping', 'hey', 'hi', 'history', 'hola', 'hospital', 'how', 'i', 'id', 'is', 'later', 'list', 'load', 'locate', 'log', 'looking', 'lookup', 'management', 'me', 'module', 'nearby', 'next', 'nice', 'of', 'offered', 'open', 'patient', 'pharmacy', 'pressure', 'provide', 'reaction', 'related', 'result', 'search', 'searching', 'see', 'show', 'suitable', 'support', 'task', 'thank', 'thanks', 'that', 'there', 'till', 'time', 'to', 'transfer', 'up', 'want', 'what', 'which', 'with', 'you']\n"
     ]
    }
   ],
   "source": [
    "print(words)"
   ]
  },
  {
   "cell_type": "code",
   "execution_count": 28,
   "id": "c482812b",
   "metadata": {},
   "outputs": [
    {
     "name": "stdout",
     "output_type": "stream",
     "text": [
      "{'intents': [{'tag': 'greeting', 'patterns': ['Hi there', 'How are you', 'Is anyone there?', 'Hey', 'Hola', 'Hello', 'Good day'], 'responses': ['Hello, thanks for asking', 'Good to see you again', 'Hi there, how can I help?'], 'context': ['']}, {'tag': 'goodbye', 'patterns': ['Bye', 'See you later', 'Goodbye', 'Nice chatting to you, bye', 'Till next time'], 'responses': ['See you!', 'Have a nice day', 'Bye! Come back again soon.'], 'context': ['']}, {'tag': 'thanks', 'patterns': ['Thanks', 'Thank you', \"That's helpful\", 'Awesome, thanks', 'Thanks for helping me'], 'responses': ['Happy to help!', 'Any time!', 'My pleasure'], 'context': ['']}, {'tag': 'noanswer', 'patterns': [], 'responses': [\"Sorry, can't understand you\", 'Please give me more info', 'Not sure I understand'], 'context': ['']}, {'tag': 'options', 'patterns': ['How you could help me?', 'What you can do?', 'What help you provide?', 'How you can be helpful?', 'What support is offered'], 'responses': ['I can guide you through Adverse drug reaction list, Blood pressure tracking, Hospitals and Pharmacies', 'Offering support for Adverse drug reaction, Blood pressure, Hospitals and Pharmacies'], 'context': ['']}, {'tag': 'adverse_drug', 'patterns': ['How to check Adverse drug reaction?', 'Open adverse drugs module', 'Give me a list of drugs causing adverse behavior', 'List all drugs suitable for patient with adverse reaction', 'Which drugs dont have adverse reaction?'], 'responses': ['Navigating to Adverse drug reaction module'], 'context': ['']}, {'tag': 'blood_pressure', 'patterns': ['Open blood pressure module', 'Task related to blood pressure', 'Blood pressure data entry', 'I want to log blood pressure results', 'Blood pressure data management'], 'responses': ['Navigating to Blood Pressure module'], 'context': ['']}, {'tag': 'blood_pressure_search', 'patterns': ['I want to search for blood pressure result history', 'Blood pressure for patient', 'Load patient blood pressure result', 'Show blood pressure results for patient', 'Find blood pressure results by ID'], 'responses': ['Please provide Patient ID', 'Patient ID?'], 'context': ['search_blood_pressure_by_patient_id']}, {'tag': 'search_blood_pressure_by_patient_id', 'patterns': [], 'responses': ['Loading Blood pressure result for Patient'], 'context': ['']}, {'tag': 'pharmacy_search', 'patterns': ['Find me a pharmacy', 'Find pharmacy', 'List of pharmacies nearby', 'Locate pharmacy', 'Search pharmacy'], 'responses': ['Please provide pharmacy name'], 'context': ['search_pharmacy_by_name']}, {'tag': 'search_pharmacy_by_name', 'patterns': [], 'responses': ['Loading pharmacy details'], 'context': ['']}, {'tag': 'hospital_search', 'patterns': ['Lookup for hospital', 'Searching for hospital to transfer patient', 'I want to search hospital data', 'Hospital lookup for patient', 'Looking up hospital details'], 'responses': ['Please provide hospital name or location'], 'context': ['search_hospital_by_params']}, {'tag': 'search_hospital_by_params', 'patterns': [], 'responses': ['Please provide hospital type'], 'context': ['search_hospital_by_type']}, {'tag': 'search_hospital_by_type', 'patterns': [], 'responses': ['Loading hospital details'], 'context': ['']}]}\n"
     ]
    }
   ],
   "source": [
    "print(intents)"
   ]
  },
  {
   "cell_type": "code",
   "execution_count": 29,
   "id": "ed5ad48a",
   "metadata": {},
   "outputs": [
    {
     "name": "stdout",
     "output_type": "stream",
     "text": [
      "['adverse_drug', 'blood_pressure', 'blood_pressure_search', 'goodbye', 'greeting', 'hospital_search', 'options', 'pharmacy_search', 'thanks']\n"
     ]
    }
   ],
   "source": [
    "print(classes)"
   ]
  },
  {
   "cell_type": "markdown",
   "id": "8e48e365",
   "metadata": {},
   "source": [
    "# Defining functions"
   ]
  },
  {
   "cell_type": "code",
   "execution_count": 3,
   "id": "016a86ed",
   "metadata": {},
   "outputs": [
    {
     "name": "stdout",
     "output_type": "stream",
     "text": [
      "After tokonize---> ['I', 'am', 'suffering', 'from', 'corona', ',', 'Whats', 'my', 'daily', 'routine', 'should', 'be', '?']\n"
     ]
    },
    {
     "data": {
      "text/plain": [
       "['i',\n",
       " 'am',\n",
       " 'suffering',\n",
       " 'from',\n",
       " 'corona',\n",
       " ',',\n",
       " 'whats',\n",
       " 'my',\n",
       " 'daily',\n",
       " 'routine',\n",
       " 'should',\n",
       " 'be',\n",
       " '?']"
      ]
     },
     "execution_count": 3,
     "metadata": {},
     "output_type": "execute_result"
    }
   ],
   "source": [
    "#perform pre-processing operations on the user input sentence\n",
    "\n",
    "def clean_up_sentence(sentence,show_details=True):\n",
    "    \n",
    "    # tokenize the pattern - split words into array\n",
    "    sentence_words = nltk.word_tokenize(sentence)\n",
    "    \n",
    "    if(show_details):\n",
    "        print(\"After Tokonize--->\",sentence_words)\n",
    "        \n",
    "    # stem each word - create short form for word\n",
    "    sentence_words = [lemmatizer.lemmatize(word.lower()) for word in sentence_words]\n",
    "    return sentence_words\n",
    "\n",
    "sentence = \"I am suffering from corona, Whats my daily routine should be?\" #Example Sentence\n",
    "clean_up_sentence(sentence,show_details=True) #Calling Function"
   ]
  },
  {
   "cell_type": "code",
   "execution_count": 4,
   "id": "ff55cd3c",
   "metadata": {},
   "outputs": [
    {
     "name": "stdout",
     "output_type": "stream",
     "text": [
      "i\n",
      "i\n",
      "found in bag: i\n",
      ",\n",
      ",\n",
      "found in bag: ,\n",
      "be\n",
      "be\n",
      "found in bag: be\n"
     ]
    },
    {
     "data": {
      "text/plain": [
       "array([0, 1, 0, 0, 0, 0, 0, 0, 1, 0, 0, 0, 0, 0, 0, 0, 0, 0, 0, 0, 0, 0,\n",
       "       0, 0, 0, 0, 0, 0, 0, 0, 0, 0, 0, 0, 0, 0, 0, 0, 0, 0, 0, 1, 0, 0,\n",
       "       0, 0, 0, 0, 0, 0, 0, 0, 0, 0, 0, 0, 0, 0, 0, 0, 0, 0, 0, 0, 0, 0,\n",
       "       0, 0, 0, 0, 0, 0, 0, 0, 0, 0, 0, 0, 0, 0, 0, 0, 0, 0, 0, 0, 0, 0])"
      ]
     },
     "execution_count": 4,
     "metadata": {},
     "output_type": "execute_result"
    }
   ],
   "source": [
    "#The bag-of-words model is a simplifying representation used in natural language processing and information retrieval.\n",
    "#Defining a function bow() to get the bag of words\n",
    "def bow(sentence, words, show_details=True):\n",
    "    \n",
    "    # tokenize the pattern by calling the function\n",
    "    sentence_words = clean_up_sentence(sentence,show_details=False)\n",
    "    \n",
    "    # bag of words - matrix of N words, vocabulary matrix\n",
    "    bag = [0]*len(words)   #bag = [0,0,0,0,0,0,0,0,....]\n",
    "    \n",
    "    for s in sentence_words:    #s for each word in sentence words\n",
    "        for i,w in enumerate(words):  #i for index and w for each word in words\n",
    "            if w == s:\n",
    "                \n",
    "                # assign 1 if current word is in the vocabulary position\n",
    "                bag[i] = 1\n",
    "                \n",
    "                if show_details:\n",
    "                    print(w)\n",
    "                    print(s)\n",
    "                    print (\"found in bag: %s\" % w)\n",
    "    return(np.array(bag))\n",
    "\n",
    "bow(sentence, words, show_details=True) #calling the function"
   ]
  },
  {
   "cell_type": "code",
   "execution_count": 8,
   "id": "8bcf0bf6",
   "metadata": {},
   "outputs": [
    {
     "name": "stdout",
     "output_type": "stream",
     "text": [
      "res --> [7.8403385e-04 1.3344385e-02 3.0120698e-04 5.9673208e-01 1.6238218e-02\n",
      " 3.5895498e-03 3.6674005e-01 9.3521824e-04 1.3352295e-03]\n",
      "results--> [[3, 0.5967321], [6, 0.36674005]]\n",
      "results sorted --> [[3, 0.5967321], [6, 0.36674005]]\n"
     ]
    },
    {
     "data": {
      "text/plain": [
       "[{'intent': 'goodbye', 'probability': '0.5967321'},\n",
       " {'intent': 'options', 'probability': '0.36674005'}]"
      ]
     },
     "execution_count": 8,
     "metadata": {},
     "output_type": "execute_result"
    }
   ],
   "source": [
    "#Defining function to predict the class of the sentence using the model created in training_bot \n",
    "\n",
    "def predict_class(sentence, model):\n",
    "    \n",
    "    # filter out predictions below a threshold\n",
    "    p = bow(sentence, words,show_details=False) #calling the function\n",
    "    \n",
    "    #predict will give the relevance accuracy for the words found in the bag with predefined classes \n",
    "    res = model.predict(np.array([p]))[0]   #[0] to convert the array into the list                                               \n",
    "    print(\"res -->\",res)\n",
    "    \n",
    "    ERROR_THRESHOLD = 0.25 #Minimum value of the accuracy shoukd to be 0.25 or 25%\n",
    "    \n",
    "    results = [[i,r] for i,r in enumerate(res) if r>ERROR_THRESHOLD] #filter out the values which are below 0.25\n",
    "    print(\"results-->\",results)\n",
    "    \n",
    "    # sort by strength of probability\n",
    "    results.sort(key=lambda x: x[1], reverse=True) #lambda: inline function  reverse: descending order\n",
    "    \n",
    "    #x = [0:index,1:probability] here we need to sort the list according to the probability value thats why x[1]\n",
    "    \n",
    "    #def function(x):\n",
    "         #return x[1]\n",
    "    print(\"results sorted -->\",results)\n",
    "    \n",
    "    return_list = []  #empty list\n",
    "    \n",
    "    for r in results:\n",
    "        return_list.append({\"intent\": classes[r[0]], \"probability\": str(r[1])})  \n",
    "    return return_list\n",
    "\n",
    "predict_class(sentence, model) #calling the function"
   ]
  },
  {
   "cell_type": "code",
   "execution_count": 9,
   "id": "d084db8e",
   "metadata": {},
   "outputs": [],
   "source": [
    "#Defining the function to get the response from the intents.json file according the predicted class\n",
    "\n",
    "def getResponse(ints, intents_json):\n",
    "    tag = ints[0]['intent']   #ints = result from the predict_class() \n",
    "                              #Here we will the predicted intent to the tag\n",
    "        \n",
    "    list_of_intents = intents_json['intents']\n",
    "    \n",
    "    for i in list_of_intents:\n",
    "        if(i['tag']== tag):\n",
    "            result = random.choice(i['responses']) #randomly choose a response from the predicted class\n",
    "            print(result)\n",
    "            break\n",
    "    return result"
   ]
  },
  {
   "cell_type": "code",
   "execution_count": 10,
   "id": "a4ed5478",
   "metadata": {},
   "outputs": [],
   "source": [
    "#Defining the main function that will be use in the graphical output\n",
    "def chatbot_response(msg):\n",
    "    ints = predict_class(msg, model)\n",
    "    res = getResponse(ints, intents)\n",
    "    return res"
   ]
  },
  {
   "cell_type": "markdown",
   "id": "6cf7cd94",
   "metadata": {},
   "source": [
    "# Build a GUI for the Bot using Tkinter"
   ]
  },
  {
   "cell_type": "code",
   "execution_count": null,
   "id": "a65d5d2f",
   "metadata": {},
   "outputs": [
    {
     "name": "stdout",
     "output_type": "stream",
     "text": [
      "res --> [1.0619105e-05 3.8147980e-05 3.7042987e-06 6.2468091e-05 9.9970740e-01\n",
      " 1.2276216e-05 1.7246060e-05 2.9140303e-06 1.4512692e-04]\n",
      "results--> [[4, 0.9997074]]\n",
      "results sorted --> [[4, 0.9997074]]\n",
      "Hello, thanks for asking\n",
      "res --> [1.4705162e-09 1.8679746e-08 1.7051097e-09 2.2721487e-08 2.7954077e-09\n",
      " 3.7790951e-08 9.9999988e-01 6.3983915e-11 2.6144964e-10]\n",
      "results--> [[6, 0.9999999]]\n",
      "results sorted --> [[6, 0.9999999]]\n",
      "Offering support for Adverse drug reaction, Blood pressure, Hospitals and Pharmacies\n"
     ]
    }
   ],
   "source": [
    "#Creating GUI with tkinter #Tkinter provides a fast and easy way to create GUI applications.\n",
    "import tkinter\n",
    "from tkinter import * # * means all the modules of the tkinter\n",
    "\n",
    "#Defining function for the sending activity\n",
    "def send():\n",
    "    #EntryBox is the class for creating the box for the message\n",
    "    \n",
    "    msg = EntryBox.get(\"1.0\",'end-1c').strip()  \n",
    "    #\"1.0\" means that the input should be read from line one, character zero (ie: the very first character)\n",
    "    #The end-1c part means to read until the end of the text box is reached\n",
    "    \n",
    "    EntryBox.delete(\"0.0\",END)\n",
    "    #Reset the the message box for further use\n",
    "\n",
    "    if msg != '':\n",
    "        \n",
    "        #ChatLog: Class for creating the main chat window\n",
    "        ChatLog.config(state=NORMAL) #Enable or active the Chat Window\n",
    "        \n",
    "        ChatLog.insert(END, \"You: \" + msg + '\\n\\n')\n",
    "        \n",
    "        ChatLog.config(foreground=\"#442265\", font=(\"Verdana\", 12 )) #Set the foreground color and font of the text\n",
    "    \n",
    "        res = chatbot_response(msg) #Calling the function with the user input message\n",
    "        \n",
    "        ChatLog.insert(END, \"Bot: \" + res + '\\n\\n')\n",
    "            \n",
    "        ChatLog.config(state=DISABLED) #Disable or deactive the Chat Window after the chat ended\n",
    "        ChatLog.yview(END) #yview: show the conversaation in vertical view\n",
    " \n",
    "\n",
    "base = Tk() #Tk() class create an instance of tkinter frame (The graphical window)\n",
    "base.title(\"Hello\")\n",
    "base.geometry(\"400x500\") #Set the width and height of the frame\n",
    "base.resizable(width=FALSE, height=FALSE) #Size cant be changed\n",
    "\n",
    "#Create Chat window\n",
    "ChatLog = Text(base, bd=0, bg=\"white\", height=\"8\", width=\"50\", font=\"Arial\",)\n",
    "#bd = border width\n",
    "\n",
    "ChatLog.config(state=DISABLED) #Chat Window Will be disabled by deafult\n",
    "\n",
    "#Bind scrollbar to Chat window\n",
    "scrollbar = Scrollbar(base, command=ChatLog.yview, cursor=\"heart\")\n",
    "ChatLog['yscrollcommand'] = scrollbar.set #set the scrolllbar to the chat window\n",
    "\n",
    "#Create Button to send message\n",
    "SendButton = Button(base, font=(\"Verdana\",12,'bold'), text=\"Send\", width=\"12\", height=5,\n",
    "                    bd=0, bg=\"#32de97\", activebackground=\"#3c9d9b\",fg='#ffffff',\n",
    "                    command= send )\n",
    "\n",
    "#Create the box to enter message\n",
    "EntryBox = Text(base, bd=0, bg=\"white\",width=\"29\", height=\"5\", font=\"Arial\")\n",
    "#EntryBox.bind(\"<Return>\", send)\n",
    "\n",
    "\n",
    "#Place all components on the screen\n",
    "scrollbar.place(x=376,y=6, height=386)\n",
    "ChatLog.place(x=6,y=6, height=386, width=370)\n",
    "EntryBox.place(x=128, y=401, height=90, width=265)\n",
    "SendButton.place(x=6, y=401, height=90)\n",
    "\n",
    "base.mainloop() \n",
    "#This method listens for events, such as button clicks and keeps the frame running until you close the window."
   ]
  },
  {
   "cell_type": "code",
   "execution_count": null,
   "id": "6cdfbeb0",
   "metadata": {},
   "outputs": [],
   "source": []
  }
 ],
 "metadata": {
  "kernelspec": {
   "display_name": "Python 3 (ipykernel)",
   "language": "python",
   "name": "python3"
  },
  "language_info": {
   "codemirror_mode": {
    "name": "ipython",
    "version": 3
   },
   "file_extension": ".py",
   "mimetype": "text/x-python",
   "name": "python",
   "nbconvert_exporter": "python",
   "pygments_lexer": "ipython3",
   "version": "3.9.7"
  }
 },
 "nbformat": 4,
 "nbformat_minor": 5
}
